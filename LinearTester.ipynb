{
 "cells": [
  {
   "cell_type": "code",
   "execution_count": 1,
   "id": "c44d0e4d-64df-4290-b9c0-5dfb1b21f788",
   "metadata": {},
   "outputs": [],
   "source": [
    "# Memuat model yang sudah dibuat\n",
    "import pickle\n",
    "\n",
    "model = pickle.load(open(\"model/linear_ads.sav\", 'rb'))"
   ]
  },
  {
   "cell_type": "code",
   "execution_count": 4,
   "id": "c38cd61e-ecf4-4a85-acbf-4aba39a44cc0",
   "metadata": {},
   "outputs": [
    {
     "ename": "NameError",
     "evalue": "name 'df' is not defined",
     "output_type": "error",
     "traceback": [
      "\u001b[1;31m---------------------------------------------------------------------------\u001b[0m",
      "\u001b[1;31mNameError\u001b[0m                                 Traceback (most recent call last)",
      "\u001b[1;32m~\\AppData\\Local\\Temp\\ipykernel_11036\\3502589708.py\u001b[0m in \u001b[0;36m<module>\u001b[1;34m\u001b[0m\n\u001b[1;32m----> 1\u001b[1;33m \u001b[0mdf\u001b[0m\u001b[1;33m.\u001b[0m\u001b[0mkeys\u001b[0m\u001b[1;33m(\u001b[0m\u001b[1;33m)\u001b[0m\u001b[1;33m\u001b[0m\u001b[1;33m\u001b[0m\u001b[0m\n\u001b[0m",
      "\u001b[1;31mNameError\u001b[0m: name 'df' is not defined"
     ]
    }
   ],
   "source": []
  },
  {
   "cell_type": "code",
   "execution_count": 2,
   "id": "47e6dea2-6f07-4692-bc2d-0b8d894d52c9",
   "metadata": {},
   "outputs": [
    {
     "name": "stdout",
     "output_type": "stream",
     "text": [
      "[9.48236314]\n"
     ]
    },
    {
     "name": "stderr",
     "output_type": "stream",
     "text": [
      "c:\\users\\syl\\appdata\\local\\programs\\python\\python37\\lib\\site-packages\\sklearn\\base.py:451: UserWarning: X does not have valid feature names, but LinearRegression was fitted with feature names\n",
      "  \"X does not have valid feature names, but\"\n"
     ]
    }
   ],
   "source": [
    "iklan_tv = 40 # juta\n",
    "iklan_radio = 23 # juta\n",
    "iklan_koran = 3 # juta\n",
    "\n",
    "prediksi_penjualan = model.predict([[\n",
    "    iklan_tv, iklan_radio, iklan_koran]])\n",
    "\n",
    "print(prediksi_penjualan)"
   ]
  },
  {
   "cell_type": "code",
   "execution_count": null,
   "id": "cd87fc0d-8e87-4be1-b738-380209910290",
   "metadata": {},
   "outputs": [],
   "source": [
    "!pip install gradio"
   ]
  },
  {
   "cell_type": "code",
   "execution_count": 3,
   "id": "32757a1f-ac81-460d-9ea4-0d243775d5c2",
   "metadata": {},
   "outputs": [
    {
     "name": "stdout",
     "output_type": "stream",
     "text": [
      "Running on local URL:  http://127.0.0.1:7860/\n",
      "\n",
      "To create a public link, set `share=True` in `launch()`.\n"
     ]
    },
    {
     "data": {
      "text/html": [
       "\n",
       "        <iframe\n",
       "            width=\"900\"\n",
       "            height=\"500\"\n",
       "            src=\"http://127.0.0.1:7860/\"\n",
       "            frameborder=\"0\"\n",
       "            allowfullscreen\n",
       "            \n",
       "        ></iframe>\n",
       "        "
      ],
      "text/plain": [
       "<IPython.lib.display.IFrame at 0x1854dad5fc8>"
      ]
     },
     "metadata": {},
     "output_type": "display_data"
    },
    {
     "data": {
      "text/plain": [
       "(<gradio.routes.App at 0x1854da14e48>, 'http://127.0.0.1:7860/', None)"
      ]
     },
     "execution_count": 3,
     "metadata": {},
     "output_type": "execute_result"
    }
   ],
   "source": [
    "import gradio as gr\n",
    "\n",
    "def prediksi(iklan_tv, iklan_radio, iklan_koran):\n",
    "    return model.predict([[\n",
    "        iklan_tv, iklan_radio, iklan_koran]])[0]\n",
    "\n",
    "form_prediksi = gr.Interface(\n",
    "    fn=prediksi,\n",
    "    inputs=[\n",
    "        gr.Slider(0, 100, label=\"Biaya Iklan TV\"),\n",
    "        gr.Slider(0, 100, label=\"Biaya Iklan Radio\"),\n",
    "        gr.Slider(0, 100, label=\"Biaya Iklan Koran\"),\n",
    "    ],\n",
    "    outputs=[gr.Number(label=\"Prediksi Penjualan\")],\n",
    ")\n",
    "\n",
    "form_prediksi.launch()"
   ]
  },
  {
   "cell_type": "markdown",
   "id": "f639ed39-78f2-41cb-8733-3739e02ba6a7",
   "metadata": {},
   "source": [
    "```python{1}\n",
    "import gradio as gr\n",
    "\n",
    "def prediksi(iklan_tv, iklan_radio, iklan_koran):\n",
    "    return model.predict([[\n",
    "        iklan_tv, iklan_radio, iklan_koran]])[0]\n",
    "\n",
    "form_prediksi = gr.Interface(\n",
    "    fn=prediksi,\n",
    "    inputs=[\n",
    "        gr.Slider(0, 100, label=\"Biaya Iklan TV\"),\n",
    "        gr.Slider(0, 100, label=\"Biaya Iklan Radio\"),\n",
    "        gr.Slider(0, 100, label=\"Biaya Iklan Koran\"),\n",
    "    ],\n",
    "    outputs=[gr.Number(label=\"Prediksi Penjualan\")],\n",
    ")\n",
    "\n",
    "form_prediksi.launch()\n",
    "```"
   ]
  }
 ],
 "metadata": {
  "kernelspec": {
   "display_name": "Python 3 (ipykernel)",
   "language": "python",
   "name": "python3"
  },
  "language_info": {
   "codemirror_mode": {
    "name": "ipython",
    "version": 3
   },
   "file_extension": ".py",
   "mimetype": "text/x-python",
   "name": "python",
   "nbconvert_exporter": "python",
   "pygments_lexer": "ipython3",
   "version": "3.7.7"
  }
 },
 "nbformat": 4,
 "nbformat_minor": 5
}
